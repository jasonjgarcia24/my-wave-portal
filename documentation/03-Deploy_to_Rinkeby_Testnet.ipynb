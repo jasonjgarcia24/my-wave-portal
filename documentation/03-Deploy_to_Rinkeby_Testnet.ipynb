{
 "cells": [
  {
   "cell_type": "markdown",
   "id": "702070d7",
   "metadata": {},
   "source": [
    "# Deploy to Rinkeby Testnet\n",
    "To deploy our smart contract to the rinkeby testnet, we need to modify our <code>hardhat.config.js</code> file in our root path to the following:<br>\n",
    "\n",
    "    require('@nomiclabs/hardhat-waffle');\n",
    "\n",
    "    module.exports = {\n",
    "      solidity: '0.8.0',\n",
    "      networks: {\n",
    "        rinkeby: {\n",
    "          url: 'YOUR_ALCHEMY_API_URL',\n",
    "          accounts: ['YOUR_PRIVATE_RINKEBY_ACCOUNT_KEY'],\n",
    "        },\n",
    "      },\n",
    "    };\n",
    "    \n",
    "#### **NOTE**: DON'T COMMIT THIS FILE TO GITHUB. IT HAS YOUR PRIVATE KEY. YOU WILL GET ROBBED!!!!!!<br>\n",
    "\n",
    "To access your private key in MetaMask, change the network to \"Rinkeby Test Network\" and then click the three dots and select \"Account Details\" > \"Export Private Key\". This private key essentially allows you to \"login\" to the blockchain. So your public and private keys are your username and password, respectively.<br><br>\n",
    "Once we've yout our config setup, we can deploy to the Rinkeby testnet with the following command:<br>\n",
    "\n",
    "    npx hardhat run scripts/deploy.js --network rinkeby\n",
    "    \n",
    "The output should appear as below:<br>\n",
    "<img src=\"img/deploy-contract-to-rinkeby-testnet.png\" title=\"Deploy smart contract to Rinkeby testnet\"><br><br>\n",
    "For this example, this contract can be viewed on the blockchain within the Rinkeby testnet at via Etherscan.io at <a href=\"https://rinkeby.etherscan.io/address/0x825e2e0ea4a5fe55d2575ab230dd55c119801cdf\" target=\"_blank\">0x825e2E0EA4a5fE55D2575AB230DD55c119801cDF</a>.\n"
   ]
  }
 ],
 "metadata": {
  "kernelspec": {
   "display_name": "Python (dev)",
   "language": "python",
   "name": "dev"
  },
  "language_info": {
   "codemirror_mode": {
    "name": "ipython",
    "version": 3
   },
   "file_extension": ".py",
   "mimetype": "text/x-python",
   "name": "python",
   "nbconvert_exporter": "python",
   "pygments_lexer": "ipython3",
   "version": "3.8.8"
  }
 },
 "nbformat": 4,
 "nbformat_minor": 5
}

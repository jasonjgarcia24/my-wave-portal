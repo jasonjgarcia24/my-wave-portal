{
 "cells": [
  {
   "cell_type": "markdown",
   "id": "7d48364f",
   "metadata": {},
   "source": [
    "# Create a Local Blockchain Test Environment\n",
    "To create a local blockchain test environment, we need to perform the following steps:\n",
    "1. Compile our contract.\n",
    "2. Deploy our contract to our local blockchain.\n",
    "3. Once our contract is deployed, output the results with console.log()"
   ]
  },
  {
   "cell_type": "markdown",
   "id": "5b486f03",
   "metadata": {},
   "source": [
    "## Create run.js\n",
    "To test the smart contract, create a <code>run.js</code> file in the <code>scripts</code> folder.<br>\n",
    "\n",
    "    const main = async () => {\n",
    "        const waveContractFactory = await hre.ethers.getContractFactory('WavePortal');\n",
    "        const waveContract = await waveContractFactory.deploy();\n",
    "        await waveContract.deployed();\n",
    "        console.log(\"Contract deployed to:\", waveContract.address);\n",
    "    };\n",
    "\n",
    "    const runMain = async () => {\n",
    "      try {\n",
    "        await main();\n",
    "        process.exit(0);\n",
    "      } catch (error) {\n",
    "        console.log(error);\n",
    "        process.exit(1);\n",
    "      }\n",
    "    };\n",
    "\n",
    "    runMain();\n",
    "    \n",
    "**Note**: In this code block we use <code>hre.ethers</code>. Although <code>hre</code> is not imported, everytime you run a terminal command that starts with the <code>npx hardhat</code> you are getting the <code>hre</code> object built on the fly using the <code>hardhat.config.js</code> in your code. This is because \"The Hardhat Runtime Environment, or HRE for short, is an object containing all the functionality that Hardhat exposes when running the task, test or script. In reality, Hardhat is the HRE.\" -<a href=\"https://hardhat.org/advanced/hardhat-runtime-environment.html\" title=\"https://hardhat.org/advanced/hardhat-runtime-environment.html\" target=\"_blank\">Hardhat docs</a>."
   ]
  },
  {
   "cell_type": "markdown",
   "id": "1090aef1",
   "metadata": {},
   "source": [
    "***\n",
    "This line compiles our contract and generates the necessary files to work with our contract under the <code>artifacts</code> folder:<br>\n",
    "\n",
    "    const waveContractFactory = await hre.ethers.getContractFactory(\"WavePortal\");\n",
    "\n",
    "<ins>Artifacts Before</ins>:<br>\n",
    "<img src=\"img/artifacts-tree_before-contract-deployment.png\" tie=\"Before contract deployment\">\n",
    "\n",
    "<ins>Artifacts After</ins>:<br>\n",
    "<img src=\"img/artifacts-tree_after-contract-deployment.png\" title=\"After contract deployment\">\n",
    "\n",
    "***\n",
    "Create a local Ethereum network for this contract only:<br>\n",
    "\n",
    "    const waveContract = await waveContractFactory.deploy();\n",
    "\n",
    "For the preceding line, once the <code>run.js</code> script completes, the created local Ethereum network is destroyed. Therefore, every time you run the <code>WavePortal</code> contract, it'll create a fresh blockchain. This is essentially like refreshing your local server every time so you always start with a clean slate (think debuggin errors).<br>\n",
    "\n",
    "***\n",
    "Wait until our contact is officially deployed to our local blockchain (our <code>constructor</code> in <code>WavePortal.sol</code> runs when we deploy):\n",
    "\n",
    "    await waveContract.deployed();\n",
    "\n",
    "***\n",
    "Once the contract is deployed, output the deployed contract's address:\n",
    "\n",
    "    console.log(\"Contract deployed to: \", waveContract.address);\n",
    "    \n",
    "This address is how we can find our contract on the blockchain."
   ]
  },
  {
   "cell_type": "markdown",
   "id": "008e98b8",
   "metadata": {},
   "source": [
    "***\n",
    "Deploy your contract using the terminal:<br>\n",
    "\n",
    "    npx hardhat run scripts/run.js\n",
    "    \n",
    "<img src=\"img/contract-deployment.png\" title=\"Deploy WaveContract 😎\">"
   ]
  }
 ],
 "metadata": {
  "kernelspec": {
   "display_name": "Python (dev)",
   "language": "python",
   "name": "dev"
  },
  "language_info": {
   "codemirror_mode": {
    "name": "ipython",
    "version": 3
   },
   "file_extension": ".py",
   "mimetype": "text/x-python",
   "name": "python",
   "nbconvert_exporter": "python",
   "pygments_lexer": "ipython3",
   "version": "3.8.8"
  }
 },
 "nbformat": 4,
 "nbformat_minor": 5
}

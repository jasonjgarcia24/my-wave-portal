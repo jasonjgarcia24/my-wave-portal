{
 "cells": [
  {
   "cell_type": "markdown",
   "id": "edc12114",
   "metadata": {},
   "source": [
    "# Deploy to Local Ethereum Network\n",
    "When we run <code>scripts/run.js</code> we:\n",
    "1. Create a new local Ethereum network.\n",
    "2. Deploy the smart contract.\n",
    "3. When the script ends, Hardhat **destroys** the created local network.<br>\n",
    "\n",
    "To keep the local network alive, in a seperate terminal within the <code>my-wave-portal</code> project, we run:<br>\n",
    "    \n",
    "    npx hardhat node\n",
    "    \n",
    "This allows us to keep the local network alive so we can keep talking to it! Super cool!!!\n",
    "<img src=\"img/deploy-local-eth-network.png\" title=\"Deploy local Ethereum network\">"
   ]
  },
  {
   "cell_type": "markdown",
   "id": "3cdca8f7",
   "metadata": {},
   "source": [
    "***\n",
    "After deploying the local Ethereum network, in another terminal window in the <code>my-wave-portal</code> path, type the following to deploy to the local host:\n",
    "\n",
    "    npx hardhat run scripts/deploy.js --network localhost\n",
    "    \n",
    "Within the terminal window running the local Ethereum network, we will see a similar response to the below:<br>\n",
    "<img src=\"img/deploy-to-local-eth-network.png\" title=\"Deploy contract to local Ethereum network\"><br>\n",
    "\n",
    "The fields below are described as follows:\n",
    " - **Contract deployment**: The name of the deployed smart contract.\n",
    " - **Contract address**: The smart contract's address/hash.\n",
    " - **Transaction**: The transaction's address/hash. A transaction hash is a unique 66 character identifier that is generated whenever a transaction is executed.\n",
    " - **From**: The sending party of the transaction (could be from a contract address).\n",
    " - **Value**: The value being transacted in ETH.\n",
    " - **Gas used**: The transaction fee.\n",
    " - **Block #1**: The number of the block in which the transaction was recorded."
   ]
  }
 ],
 "metadata": {
  "kernelspec": {
   "display_name": "Python (dev)",
   "language": "python",
   "name": "dev"
  },
  "language_info": {
   "codemirror_mode": {
    "name": "ipython",
    "version": 3
   },
   "file_extension": ".py",
   "mimetype": "text/x-python",
   "name": "python",
   "nbconvert_exporter": "python",
   "pygments_lexer": "ipython3",
   "version": "3.8.8"
  }
 },
 "nbformat": 4,
 "nbformat_minor": 5
}
